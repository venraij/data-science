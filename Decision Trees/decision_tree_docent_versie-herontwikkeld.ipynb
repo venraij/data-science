{
 "cells": [
  {
   "cell_type": "markdown",
   "metadata": {},
   "source": [
    "### Leerdoelen\n",
    "- Je leert een Business Understanding te formuleren bij een opdrachtgever en een gegeven dataset. \n",
    "- Je leert wat een decision tree is\n",
    "- Je leert werken met decision trees in Python\n",
    "- Je leert je conslusies uit het Data Understanding te verbinden aan de uitkomst van je decision tree\n",
    "- Je leert een keuze tussen decision trees van verschillende complexiteit\n",
    "- Je leert de voorspellingen van je decision tree beoordelen. \n",
    "\n",
    "### Achtergrondinformatie:\n",
    "- Google naar:\n",
    "    - `python sklearn decision tree`\n",
    "    - (optioneel) `python sklearn visualise decision tree`\n",
    "\n",
    "### Opdracht \n",
    "- Vul het onderstaande notebook aan op de gevraagde plekken. \n",
    "\n",
    "# Business Understanding\n",
    "De gemeente Boston in de VS worstelt met armoede problematiek. Een probleem voor de gemeente is dat ze geen inzicht hebben in welke factoren van invloed zijn op of een persoon wel of niet arm is. Om dit inzicht te verkrijgen heeft de gemeente jullie benaderd om hier inzicht in te verschaffen. \n",
    "\n",
    "# Les 1\n",
    "# Data Understanding\n",
    "We baseren onze analyse op de [adult dataset](https://archive.ics.uci.edu/ml/datasets/adult). Deze dataset geeft van een groot aantal mensen eigenschappen en een uitspraak over of ze meer of minder dan 50.000 (50K) dollar per jaar verdienen. Deze dataset bestaat uit de volgende variabelen:"
   ]
  },
  {
   "cell_type": "code",
   "execution_count": 1,
   "metadata": {},
   "outputs": [
    {
     "data": {
      "text/html": [
       "<div>\n",
       "<style scoped>\n",
       "    .dataframe tbody tr th:only-of-type {\n",
       "        vertical-align: middle;\n",
       "    }\n",
       "\n",
       "    .dataframe tbody tr th {\n",
       "        vertical-align: top;\n",
       "    }\n",
       "\n",
       "    .dataframe thead th {\n",
       "        text-align: right;\n",
       "    }\n",
       "</style>\n",
       "<table border=\"1\" class=\"dataframe\">\n",
       "  <thead>\n",
       "    <tr style=\"text-align: right;\">\n",
       "      <th></th>\n",
       "      <th>age</th>\n",
       "      <th>workclass</th>\n",
       "      <th>fnlwgt</th>\n",
       "      <th>education</th>\n",
       "      <th>education-num</th>\n",
       "      <th>marital-status</th>\n",
       "      <th>occupation</th>\n",
       "      <th>relationship</th>\n",
       "      <th>race</th>\n",
       "      <th>sex</th>\n",
       "      <th>capital-gain</th>\n",
       "      <th>capital-loss</th>\n",
       "      <th>hours-per-week</th>\n",
       "      <th>native-country</th>\n",
       "      <th>above_or_below_50k</th>\n",
       "    </tr>\n",
       "  </thead>\n",
       "  <tbody>\n",
       "    <tr>\n",
       "      <th>0</th>\n",
       "      <td>39</td>\n",
       "      <td>State-gov</td>\n",
       "      <td>77516</td>\n",
       "      <td>Bachelors</td>\n",
       "      <td>13</td>\n",
       "      <td>Never-married</td>\n",
       "      <td>Adm-clerical</td>\n",
       "      <td>Not-in-family</td>\n",
       "      <td>White</td>\n",
       "      <td>Male</td>\n",
       "      <td>2174</td>\n",
       "      <td>0</td>\n",
       "      <td>40</td>\n",
       "      <td>United-States</td>\n",
       "      <td>&lt;=50K</td>\n",
       "    </tr>\n",
       "    <tr>\n",
       "      <th>1</th>\n",
       "      <td>50</td>\n",
       "      <td>Self-emp-not-inc</td>\n",
       "      <td>83311</td>\n",
       "      <td>Bachelors</td>\n",
       "      <td>13</td>\n",
       "      <td>Married-civ-spouse</td>\n",
       "      <td>Exec-managerial</td>\n",
       "      <td>Husband</td>\n",
       "      <td>White</td>\n",
       "      <td>Male</td>\n",
       "      <td>0</td>\n",
       "      <td>0</td>\n",
       "      <td>13</td>\n",
       "      <td>United-States</td>\n",
       "      <td>&lt;=50K</td>\n",
       "    </tr>\n",
       "    <tr>\n",
       "      <th>2</th>\n",
       "      <td>38</td>\n",
       "      <td>Private</td>\n",
       "      <td>215646</td>\n",
       "      <td>HS-grad</td>\n",
       "      <td>9</td>\n",
       "      <td>Divorced</td>\n",
       "      <td>Handlers-cleaners</td>\n",
       "      <td>Not-in-family</td>\n",
       "      <td>White</td>\n",
       "      <td>Male</td>\n",
       "      <td>0</td>\n",
       "      <td>0</td>\n",
       "      <td>40</td>\n",
       "      <td>United-States</td>\n",
       "      <td>&lt;=50K</td>\n",
       "    </tr>\n",
       "    <tr>\n",
       "      <th>3</th>\n",
       "      <td>53</td>\n",
       "      <td>Private</td>\n",
       "      <td>234721</td>\n",
       "      <td>11th</td>\n",
       "      <td>7</td>\n",
       "      <td>Married-civ-spouse</td>\n",
       "      <td>Handlers-cleaners</td>\n",
       "      <td>Husband</td>\n",
       "      <td>Black</td>\n",
       "      <td>Male</td>\n",
       "      <td>0</td>\n",
       "      <td>0</td>\n",
       "      <td>40</td>\n",
       "      <td>United-States</td>\n",
       "      <td>&lt;=50K</td>\n",
       "    </tr>\n",
       "    <tr>\n",
       "      <th>4</th>\n",
       "      <td>28</td>\n",
       "      <td>Private</td>\n",
       "      <td>338409</td>\n",
       "      <td>Bachelors</td>\n",
       "      <td>13</td>\n",
       "      <td>Married-civ-spouse</td>\n",
       "      <td>Prof-specialty</td>\n",
       "      <td>Wife</td>\n",
       "      <td>Black</td>\n",
       "      <td>Female</td>\n",
       "      <td>0</td>\n",
       "      <td>0</td>\n",
       "      <td>40</td>\n",
       "      <td>Cuba</td>\n",
       "      <td>&lt;=50K</td>\n",
       "    </tr>\n",
       "  </tbody>\n",
       "</table>\n",
       "</div>"
      ],
      "text/plain": [
       "   age          workclass   fnlwgt   education   education-num  \\\n",
       "0   39          State-gov    77516   Bachelors              13   \n",
       "1   50   Self-emp-not-inc    83311   Bachelors              13   \n",
       "2   38            Private   215646     HS-grad               9   \n",
       "3   53            Private   234721        11th               7   \n",
       "4   28            Private   338409   Bachelors              13   \n",
       "\n",
       "        marital-status          occupation    relationship    race      sex  \\\n",
       "0        Never-married        Adm-clerical   Not-in-family   White     Male   \n",
       "1   Married-civ-spouse     Exec-managerial         Husband   White     Male   \n",
       "2             Divorced   Handlers-cleaners   Not-in-family   White     Male   \n",
       "3   Married-civ-spouse   Handlers-cleaners         Husband   Black     Male   \n",
       "4   Married-civ-spouse      Prof-specialty            Wife   Black   Female   \n",
       "\n",
       "   capital-gain  capital-loss  hours-per-week  native-country  \\\n",
       "0          2174             0              40   United-States   \n",
       "1             0             0              13   United-States   \n",
       "2             0             0              40   United-States   \n",
       "3             0             0              40   United-States   \n",
       "4             0             0              40            Cuba   \n",
       "\n",
       "  above_or_below_50k  \n",
       "0              <=50K  \n",
       "1              <=50K  \n",
       "2              <=50K  \n",
       "3              <=50K  \n",
       "4              <=50K  "
      ]
     },
     "execution_count": 1,
     "metadata": {},
     "output_type": "execute_result"
    }
   ],
   "source": [
    "import pandas as pd\n",
    "import seaborn as sn\n",
    "import numpy as np\n",
    "\n",
    "# Lieve collega's, let op dat er vaak spaties in veldnamen en kolomnamen zullen staan!\n",
    "adult = pd.read_csv('adult.csv')\n",
    "adult.head()"
   ]
  },
  {
   "cell_type": "markdown",
   "metadata": {},
   "source": [
    "waar:\n",
    "\n",
    "- `age`, leeftijd\n",
    "- `workclass`, het soort werker wat de persoon doet\n",
    "- etc\n",
    "- `sex` het geslacht van de persoon\n",
    "- `education` hoogst genoten opleiding als string\n",
    "- `education-num` hoogst genoten opleiding als een ordinale variabele\n",
    "- etc\n",
    "\n",
    "We hebben het vermoeden dat een aantal variabelen een invloed gaan hebben op het inkomen:\n",
    "\n",
    "- `age` hoe ouder iemand is hoe meer hij of zij verdient over het algemeen\n",
    "- `sex` het vermoeden is dan mannen over het algemeen meer verdienen dan vrouwen\n",
    "- `education-num` hoe meer opleiding hoe hoger het inkomen is\n",
    "\n",
    "Om dit vermoeden te toetsen gaan we voor de mogelijke combinaties van deze drie variabelen kijken wat het percentage mensen is die meer dan 50K dollar verdient:"
   ]
  },
  {
   "cell_type": "code",
   "execution_count": 2,
   "metadata": {},
   "outputs": [],
   "source": [
    "# We vervangen de labels in adult, meer leesbaar\n",
    "adult['above_or_below_50k'] = adult['above_or_below_50k'].replace({' <=50K': 'below', ' >50K': 'above'})"
   ]
  },
  {
   "cell_type": "code",
   "execution_count": 28,
   "metadata": {},
   "outputs": [
    {
     "data": {
      "text/html": [
       "<div>\n",
       "<style scoped>\n",
       "    .dataframe tbody tr th:only-of-type {\n",
       "        vertical-align: middle;\n",
       "    }\n",
       "\n",
       "    .dataframe tbody tr th {\n",
       "        vertical-align: top;\n",
       "    }\n",
       "\n",
       "    .dataframe thead th {\n",
       "        text-align: right;\n",
       "    }\n",
       "</style>\n",
       "<table border=\"1\" class=\"dataframe\">\n",
       "  <thead>\n",
       "    <tr style=\"text-align: right;\">\n",
       "      <th></th>\n",
       "      <th>education-num</th>\n",
       "      <th>sex</th>\n",
       "      <th>age</th>\n",
       "      <th>above_or_below_50k</th>\n",
       "    </tr>\n",
       "  </thead>\n",
       "  <tbody>\n",
       "    <tr>\n",
       "      <th>1698</th>\n",
       "      <td>16</td>\n",
       "      <td>Male</td>\n",
       "      <td>74</td>\n",
       "      <td>100.000000</td>\n",
       "    </tr>\n",
       "    <tr>\n",
       "      <th>1699</th>\n",
       "      <td>16</td>\n",
       "      <td>Male</td>\n",
       "      <td>75</td>\n",
       "      <td>33.333333</td>\n",
       "    </tr>\n",
       "    <tr>\n",
       "      <th>1700</th>\n",
       "      <td>16</td>\n",
       "      <td>Male</td>\n",
       "      <td>77</td>\n",
       "      <td>100.000000</td>\n",
       "    </tr>\n",
       "    <tr>\n",
       "      <th>1701</th>\n",
       "      <td>16</td>\n",
       "      <td>Male</td>\n",
       "      <td>79</td>\n",
       "      <td>100.000000</td>\n",
       "    </tr>\n",
       "    <tr>\n",
       "      <th>1702</th>\n",
       "      <td>16</td>\n",
       "      <td>Male</td>\n",
       "      <td>80</td>\n",
       "      <td>0.000000</td>\n",
       "    </tr>\n",
       "  </tbody>\n",
       "</table>\n",
       "</div>"
      ],
      "text/plain": [
       "       education-num    sex  age  above_or_below_50k\n",
       "1698              16   Male   74          100.000000\n",
       "1699              16   Male   75           33.333333\n",
       "1700              16   Male   77          100.000000\n",
       "1701              16   Male   79          100.000000\n",
       "1702              16   Male   80            0.000000"
      ]
     },
     "execution_count": 28,
     "metadata": {},
     "output_type": "execute_result"
    }
   ],
   "source": [
    "## Bekijk de code hieronder en leg uit wat je ziet\n",
    "\n",
    "def get_pct_above_50k(vec):\n",
    "    # Returns percentage of observed subjects that make above 50K\n",
    "    cnt = vec.value_counts()\n",
    "    try:\n",
    "        return 100 - ((cnt['below'] / sum(cnt)) * 100)\n",
    "    except KeyError:\n",
    "        return 100\n",
    "    \n",
    "res = adult[[' education-num', 'sex', 'age', 'above_or_below_50k']] \\\n",
    "          .groupby([' education-num', 'sex', 'age'])\\\n",
    "          .agg(get_pct_above_50k).reset_index()\n",
    "res.tail()"
   ]
  },
  {
   "cell_type": "markdown",
   "metadata": {},
   "source": [
    "Bijvoorbeeld laagopgeleide vrouwen van 23 jaar oud hebben 0 procent kans om meer dan 50K dollar te verdienen. Om alle categorieen te verkennen zetten we deze in het volgende plot:"
   ]
  },
  {
   "cell_type": "code",
   "execution_count": 4,
   "metadata": {},
   "outputs": [
    {
     "name": "stderr",
     "output_type": "stream",
     "text": [
      "/opt/conda/lib/python3.9/site-packages/seaborn/axisgrid.py:670: UserWarning: Using the stripplot function without specifying `order` is likely to produce an incorrect plot.\n",
      "  warnings.warn(warning)\n"
     ]
    },
    {
     "data": {
      "text/plain": [
       "<seaborn.axisgrid.FacetGrid at 0x7fc2e846c520>"
      ]
     },
     "execution_count": 4,
     "metadata": {},
     "output_type": "execute_result"
    },
    {
     "data": {
      "image/png": "[encoded data removed]",
      "text/plain": [
       "<Figure size 864x864 with 16 Axes>"
      ]
     },
     "metadata": {
      "needs_background": "light"
     },
     "output_type": "display_data"
    }
   ],
   "source": [
    "g = sn.FacetGrid(res, col=' education-num', hue='sex', col_wrap=4)\n",
    "h = g.map(sn.stripplot, 'age', 'above_or_below_50k', jitter=False) # Voor seaborn > 0.12 gebruik native_scale = True\n",
    "#h = g.map(sn.regplot, 'age', 'above_or_below_50k', lowess=True)\n",
    "g.set(xticks=[])"
   ]
  },
  {
   "cell_type": "markdown",
   "metadata": {},
   "source": [
    "Dit laat op de x-as de leeftijd zijn, op de y-as het percentage mensen meer dan 50K dollar, de oranje punten zijn man, de blauwe vrouw, en de verschillende plotjes geven de verschillende opleidingsniveaus. In dit plot zien we de volgende trends:\n",
    "\n",
    "- Laag opgeleide mensen hebben een veel kleinere kans om meer dan 50K te verdienen.\n",
    "- De kans voor 50K of meer wordt groter bij een toenemende leeftijd. Dit neemt na een bepaalde leeftijd (~50) weer af. \n",
    "- Vrouwen verdienen over het algemeen minder dan mannen, dit effect wordt sterker bij hogere leeftijden. \n",
    "\n",
    "Dit plot bevestiged dat deze drie variabelen een rol spelen bij de kans op een hoog inkomen. \n",
    "\n",
    "# Data Preparation\n",
    "In aanvulling op het aanpassen van de labels naar `above` en `below` zijn er nog een aantal andere bewerkingen op de data noodzakelijk. \n",
    "\n",
    "Eerst gaan we alleen de variabelen selecteren waarin we interesse hebben, en splitsen we deze over twee dataobjecten:"
   ]
  },
  {
   "cell_type": "code",
   "execution_count": 16,
   "metadata": {},
   "outputs": [],
   "source": [
    "## Welke data is categorisch? Maak hiervoor een dummy variabele\n",
    "## Maak vervolgens twee datasets, één is voor de onafhankelijke kolommen, de andere is voor de afhankelijke kolom\n",
    "\n",
    "dep_var = adult['above_or_below_50k']\n",
    "indep_var = adult[[' education-num', 'sex', 'age']]"
   ]
  },
  {
   "cell_type": "markdown",
   "metadata": {},
   "source": [
    "De eerste zijn de afhankelijke variebelen (predictors) waarmee het model gaat voorspellen, de tweede is een vector met uitkomsten. \n",
    "\n",
    "### Werken met categorische data\n",
    "Tot nu toe hebben we alleen gewerkt met numerieke variabelen, maar in de praktijk werken we ook veel met categorische variabelen. Bij de les over lineare regressie hebben we het hier al kort over gehad (`\"mpg ~ wt + C(cyl)\"`, maar hier gaan we iets meer de diepte in. \n",
    "\n",
    "In de praktijk komen we categorische data op twee manieren tegen:\n",
    "\n",
    "- Als tekst. Een goed voorbeeld hiervan is de `sex` kolom in de data waarmee we nu werken. Hier kan de decision tree niet goed mee omgaan. \n",
    "- Als getal. Een goed voorbeeld hiervan is de `cyl` kolom uit de regressie les. De getallen stellen we het aantal cylinders voor, maar je kunt geen 3.5 cillinders hebben. \n",
    "\n",
    "In beide gevallen moeten we de variabelen omzetten naar een zogenaamde dummy variabele. "
   ]
  },
  {
   "cell_type": "code",
   "execution_count": 9,
   "metadata": {},
   "outputs": [
    {
     "data": {
      "text/html": [
       "<div>\n",
       "<style scoped>\n",
       "    .dataframe tbody tr th:only-of-type {\n",
       "        vertical-align: middle;\n",
       "    }\n",
       "\n",
       "    .dataframe tbody tr th {\n",
       "        vertical-align: top;\n",
       "    }\n",
       "\n",
       "    .dataframe thead th {\n",
       "        text-align: right;\n",
       "    }\n",
       "</style>\n",
       "<table border=\"1\" class=\"dataframe\">\n",
       "  <thead>\n",
       "    <tr style=\"text-align: right;\">\n",
       "      <th></th>\n",
       "      <th>Female</th>\n",
       "      <th>Male</th>\n",
       "    </tr>\n",
       "  </thead>\n",
       "  <tbody>\n",
       "    <tr>\n",
       "      <th>0</th>\n",
       "      <td>0</td>\n",
       "      <td>1</td>\n",
       "    </tr>\n",
       "    <tr>\n",
       "      <th>1</th>\n",
       "      <td>0</td>\n",
       "      <td>1</td>\n",
       "    </tr>\n",
       "    <tr>\n",
       "      <th>2</th>\n",
       "      <td>0</td>\n",
       "      <td>1</td>\n",
       "    </tr>\n",
       "    <tr>\n",
       "      <th>3</th>\n",
       "      <td>0</td>\n",
       "      <td>1</td>\n",
       "    </tr>\n",
       "    <tr>\n",
       "      <th>4</th>\n",
       "      <td>1</td>\n",
       "      <td>0</td>\n",
       "    </tr>\n",
       "  </tbody>\n",
       "</table>\n",
       "</div>"
      ],
      "text/plain": [
       "    Female   Male\n",
       "0        0      1\n",
       "1        0      1\n",
       "2        0      1\n",
       "3        0      1\n",
       "4        1      0"
      ]
     },
     "execution_count": 9,
     "metadata": {},
     "output_type": "execute_result"
    }
   ],
   "source": [
    "# [5 min] Genereer hier de dummy variabele voor de `sex` kolom via pd.get_dummies. Doe dit voor \n",
    "#         zowel `drop_first=True` als `drop_first=False`\n",
    "pd.get_dummies(indep_var['sex']).head()"
   ]
  },
  {
   "cell_type": "code",
   "execution_count": 10,
   "metadata": {},
   "outputs": [
    {
     "data": {
      "text/html": [
       "<div>\n",
       "<style scoped>\n",
       "    .dataframe tbody tr th:only-of-type {\n",
       "        vertical-align: middle;\n",
       "    }\n",
       "\n",
       "    .dataframe tbody tr th {\n",
       "        vertical-align: top;\n",
       "    }\n",
       "\n",
       "    .dataframe thead th {\n",
       "        text-align: right;\n",
       "    }\n",
       "</style>\n",
       "<table border=\"1\" class=\"dataframe\">\n",
       "  <thead>\n",
       "    <tr style=\"text-align: right;\">\n",
       "      <th></th>\n",
       "      <th>Male</th>\n",
       "    </tr>\n",
       "  </thead>\n",
       "  <tbody>\n",
       "    <tr>\n",
       "      <th>0</th>\n",
       "      <td>1</td>\n",
       "    </tr>\n",
       "    <tr>\n",
       "      <th>1</th>\n",
       "      <td>1</td>\n",
       "    </tr>\n",
       "    <tr>\n",
       "      <th>2</th>\n",
       "      <td>1</td>\n",
       "    </tr>\n",
       "    <tr>\n",
       "      <th>3</th>\n",
       "      <td>1</td>\n",
       "    </tr>\n",
       "    <tr>\n",
       "      <th>4</th>\n",
       "      <td>0</td>\n",
       "    </tr>\n",
       "  </tbody>\n",
       "</table>\n",
       "</div>"
      ],
      "text/plain": [
       "    Male\n",
       "0      1\n",
       "1      1\n",
       "2      1\n",
       "3      1\n",
       "4      0"
      ]
     },
     "execution_count": 10,
     "metadata": {},
     "output_type": "execute_result"
    }
   ],
   "source": [
    "pd.get_dummies(indep_var['sex'], drop_first=True).head()"
   ]
  },
  {
   "attachments": {},
   "cell_type": "markdown",
   "metadata": {},
   "source": [
    "Met `drop_first=False` krijgen we twee kolommen:\n",
    "\n",
    "- `Female` welke 1 is als de persoon een vrouw is en 0 als dit niet het geval is\n",
    "- `Male` welke 1 is als de persoon een man is en 0 als dit niet het geval is\n",
    "\n",
    "Als we `drop_first=True` gebruiken houden we nog maar 1 kolom over, `Male`. Deze is 1 als de persoon een man is, en 0 als de persoon een vrouw is. We kunnen dus alle informatie over man vs vrouw vastleggen in maar 1 kolom. Dit is waarom we eigenlijk altijd `drop_first=True` gebruiken als we handmatig dummies maken. Dit is trouwens ook het gedrag van statsmodels als we `C(cyl)` gebruiken. \n",
    "\n",
    "Belangrijk hier is dat we van de `education-num` variabele geen dummies maken, terwijl ook dit een categorische variabele is. De reden waarvoor is een buiten de scope van dit college, maar details zijn [hier te vinden](https://web.archive.org/web/20200924113639/https://roamanalytics.com/2016/10/28/are-categorical-variables-getting-lost-in-your-random-forests/). "
   ]
  },
  {
   "cell_type": "code",
   "execution_count": 17,
   "metadata": {},
   "outputs": [
    {
     "data": {
      "text/html": [
       "<div>\n",
       "<style scoped>\n",
       "    .dataframe tbody tr th:only-of-type {\n",
       "        vertical-align: middle;\n",
       "    }\n",
       "\n",
       "    .dataframe tbody tr th {\n",
       "        vertical-align: top;\n",
       "    }\n",
       "\n",
       "    .dataframe thead th {\n",
       "        text-align: right;\n",
       "    }\n",
       "</style>\n",
       "<table border=\"1\" class=\"dataframe\">\n",
       "  <thead>\n",
       "    <tr style=\"text-align: right;\">\n",
       "      <th></th>\n",
       "      <th>education-num</th>\n",
       "      <th>age</th>\n",
       "      <th>sex_ Male</th>\n",
       "    </tr>\n",
       "  </thead>\n",
       "  <tbody>\n",
       "    <tr>\n",
       "      <th>0</th>\n",
       "      <td>13</td>\n",
       "      <td>39</td>\n",
       "      <td>1</td>\n",
       "    </tr>\n",
       "    <tr>\n",
       "      <th>1</th>\n",
       "      <td>13</td>\n",
       "      <td>50</td>\n",
       "      <td>1</td>\n",
       "    </tr>\n",
       "    <tr>\n",
       "      <th>2</th>\n",
       "      <td>9</td>\n",
       "      <td>38</td>\n",
       "      <td>1</td>\n",
       "    </tr>\n",
       "    <tr>\n",
       "      <th>3</th>\n",
       "      <td>7</td>\n",
       "      <td>53</td>\n",
       "      <td>1</td>\n",
       "    </tr>\n",
       "    <tr>\n",
       "      <th>4</th>\n",
       "      <td>13</td>\n",
       "      <td>28</td>\n",
       "      <td>0</td>\n",
       "    </tr>\n",
       "    <tr>\n",
       "      <th>...</th>\n",
       "      <td>...</td>\n",
       "      <td>...</td>\n",
       "      <td>...</td>\n",
       "    </tr>\n",
       "    <tr>\n",
       "      <th>32556</th>\n",
       "      <td>12</td>\n",
       "      <td>27</td>\n",
       "      <td>0</td>\n",
       "    </tr>\n",
       "    <tr>\n",
       "      <th>32557</th>\n",
       "      <td>9</td>\n",
       "      <td>40</td>\n",
       "      <td>1</td>\n",
       "    </tr>\n",
       "    <tr>\n",
       "      <th>32558</th>\n",
       "      <td>9</td>\n",
       "      <td>58</td>\n",
       "      <td>0</td>\n",
       "    </tr>\n",
       "    <tr>\n",
       "      <th>32559</th>\n",
       "      <td>9</td>\n",
       "      <td>22</td>\n",
       "      <td>1</td>\n",
       "    </tr>\n",
       "    <tr>\n",
       "      <th>32560</th>\n",
       "      <td>9</td>\n",
       "      <td>52</td>\n",
       "      <td>0</td>\n",
       "    </tr>\n",
       "  </tbody>\n",
       "</table>\n",
       "<p>32561 rows × 3 columns</p>\n",
       "</div>"
      ],
      "text/plain": [
       "        education-num  age  sex_ Male\n",
       "0                  13   39          1\n",
       "1                  13   50          1\n",
       "2                   9   38          1\n",
       "3                   7   53          1\n",
       "4                  13   28          0\n",
       "...               ...  ...        ...\n",
       "32556              12   27          0\n",
       "32557               9   40          1\n",
       "32558               9   58          0\n",
       "32559               9   22          1\n",
       "32560               9   52          0\n",
       "\n",
       "[32561 rows x 3 columns]"
      ]
     },
     "execution_count": 17,
     "metadata": {},
     "output_type": "execute_result"
    }
   ],
   "source": [
    "# [10 min] Vervang de `sex` kolom door de enkele dummy variabele\n",
    "indep_var = pd.get_dummies(indep_var, drop_first=True, columns=['sex'])\n",
    "indep_var"
   ]
  },
  {
   "cell_type": "markdown",
   "metadata": {},
   "source": [
    "# Modeling: het leeftijdsmodel"
   ]
  },
  {
   "cell_type": "code",
   "execution_count": 18,
   "metadata": {},
   "outputs": [
    {
     "name": "stdout",
     "output_type": "stream",
     "text": [
      "0.0\n"
     ]
    },
    {
     "data": {
      "text/html": [
       "<div>\n",
       "<style scoped>\n",
       "    .dataframe tbody tr th:only-of-type {\n",
       "        vertical-align: middle;\n",
       "    }\n",
       "\n",
       "    .dataframe tbody tr th {\n",
       "        vertical-align: top;\n",
       "    }\n",
       "\n",
       "    .dataframe thead th {\n",
       "        text-align: right;\n",
       "    }\n",
       "</style>\n",
       "<table border=\"1\" class=\"dataframe\">\n",
       "  <thead>\n",
       "    <tr style=\"text-align: right;\">\n",
       "      <th></th>\n",
       "      <th>above</th>\n",
       "      <th>below</th>\n",
       "    </tr>\n",
       "  </thead>\n",
       "  <tbody>\n",
       "    <tr>\n",
       "      <th>above</th>\n",
       "      <td>0</td>\n",
       "      <td>2357</td>\n",
       "    </tr>\n",
       "    <tr>\n",
       "      <th>below</th>\n",
       "      <td>0</td>\n",
       "      <td>7412</td>\n",
       "    </tr>\n",
       "  </tbody>\n",
       "</table>\n",
       "</div>"
      ],
      "text/plain": [
       "       above  below\n",
       "above      0   2357\n",
       "below      0   7412"
      ]
     },
     "execution_count": 18,
     "metadata": {},
     "output_type": "execute_result"
    }
   ],
   "source": [
    "from sklearn.tree import DecisionTreeClassifier \n",
    "from sklearn.model_selection import train_test_split \n",
    "from sklearn.metrics import f1_score\n",
    "from sklearn.metrics import confusion_matrix\n",
    "                                                                                     \n",
    "indep_var_train, indep_var_test, dep_var_train, dep_var_test = train_test_split(indep_var[['age']], dep_var, test_size=0.3)\n",
    "                                                                                  # ['age'], anders loopt de code vast\n",
    "clf = DecisionTreeClassifier().fit(indep_var_train, dep_var_train)\n",
    "print(f1_score(dep_var_test, clf.predict(indep_var_test), pos_label='above'))\n",
    "cm = pd.DataFrame(confusion_matrix(dep_var_test, clf.predict(indep_var_test)), \n",
    "             columns=['above', 'below'], \n",
    "             index=['above', 'below'])\n",
    "cm"
   ]
  },
  {
   "cell_type": "code",
   "execution_count": 30,
   "metadata": {},
   "outputs": [
    {
     "data": {
      "text/plain": [
       "<sklearn.metrics._plot.confusion_matrix.ConfusionMatrixDisplay at 0x7fc2df1c8940>"
      ]
     },
     "execution_count": 30,
     "metadata": {},
     "output_type": "execute_result"
    },
    {
     "data": {
      "image/png": "[encoded data removed]",
      "text/plain": [
       "<Figure size 432x288 with 2 Axes>"
      ]
     },
     "metadata": {
      "needs_background": "light"
     },
     "output_type": "display_data"
    }
   ],
   "source": [
    "# visualise the confusion matrix using sklearn\n",
    "from sklearn.metrics import ConfusionMatrixDisplay\n",
    "\n",
    "ConfusionMatrixDisplay(confusion_matrix(dep_var_test, clf.predict(indep_var_test)), display_labels=clf.classes_).plot()"
   ]
  },
  {
   "cell_type": "code",
   "execution_count": 32,
   "metadata": {},
   "outputs": [
    {
     "data": {
      "text/plain": [
       "<sklearn.metrics._plot.confusion_matrix.ConfusionMatrixDisplay at 0x7fc2e13ea0a0>"
      ]
     },
     "execution_count": 32,
     "metadata": {},
     "output_type": "execute_result"
    },
    {
     "data": {
      "image/png": "[encoded data removed]",
      "text/plain": [
       "<Figure size 432x288 with 2 Axes>"
      ]
     },
     "metadata": {
      "needs_background": "light"
     },
     "output_type": "display_data"
    }
   ],
   "source": [
    "# Optioneel: deel elke rij door de som van de rij. Dan krijg je de fractie voorspeld. \n",
    "ConfusionMatrixDisplay(confusion_matrix(dep_var_test, clf.predict(indep_var_test), normalize='true'), display_labels=clf.classes_).plot()"
   ]
  },
  {
   "cell_type": "markdown",
   "metadata": {},
   "source": [
    "Conclusie: het age model is verschrikkelijk slecht. Het geeft aan dat iedereen lager dan 50k verdient. "
   ]
  },
  {
   "cell_type": "markdown",
   "metadata": {},
   "source": [
    "# Les 2\n",
    "# Modeling: alle modellen\n",
    "Nu gaan we aantal combo's uitrekenen"
   ]
  },
  {
   "cell_type": "code",
   "execution_count": 34,
   "metadata": {},
   "outputs": [],
   "source": [
    "def fit_decision_tree(varlist):\n",
    "    indep_var_train, indep_var_test, dep_var_train, dep_var_test = train_test_split(indep_var[varlist], dep_var, test_size=0.3)\n",
    "                                                                                      #^^^^^^ drop!! om education eruit te gooien\n",
    "    clf = DecisionTreeClassifier().fit(indep_var_train, dep_var_train)\n",
    "    f1 = f1_score(dep_var_test, clf.predict(indep_var_test), pos_label='above')\n",
    "    cm = pd.DataFrame(confusion_matrix(dep_var_test, clf.predict(indep_var_test)), \n",
    "                 columns=['above', 'below'], \n",
    "                 index=['above', 'below'])\n",
    "    return [f1, (cm.transpose() / cm.sum(axis=1)).transpose(), clf]\n",
    "\n",
    "age_f1, age_cm, age_model = fit_decision_tree(['age'])\n",
    "edu_f1, edu_cm, edu_model = fit_decision_tree([' education-num'])\n",
    "sex_f1, sex_cm, sex_model = fit_decision_tree(['sex_ Male'])\n",
    "age_sex_f1, age_sex_cm, age_sex_model = fit_decision_tree(['age', 'sex_ Male'])\n",
    "sex_edu_f1, sex_edu_cm, sex_edu_model = fit_decision_tree(['sex_ Male', ' education-num'])\n",
    "age_edu_f1, age_edu_cm, age_edu_model = fit_decision_tree(['age', ' education-num'])\n",
    "all_f1, all_cm, all_model = fit_decision_tree(['age', 'sex_ Male', ' education-num'])"
   ]
  },
  {
   "cell_type": "code",
   "execution_count": 35,
   "metadata": {},
   "outputs": [
    {
     "data": {
      "text/plain": [
       "age        0.000000\n",
       "sex        0.000000\n",
       "edu        0.327680\n",
       "age_sex    0.205931\n",
       "sex_edu    0.478943\n",
       "age_edu    0.459424\n",
       "all        0.500741\n",
       "dtype: float64"
      ]
     },
     "execution_count": 35,
     "metadata": {},
     "output_type": "execute_result"
    }
   ],
   "source": [
    "pd.Series([age_f1, sex_f1, edu_f1, age_sex_f1, sex_edu_f1, age_edu_f1, all_f1], \n",
    "          index=['age', 'sex', 'edu', 'age_sex', 'sex_edu', 'age_edu', 'all'])"
   ]
  },
  {
   "cell_type": "markdown",
   "metadata": {},
   "source": [
    "Als we kijken naar de modellen met 1 var, dan is alleen education iets wat echt wat toevoegd. De tweevoudige combo's liken het niet echt veel beter te doen dan de edu alleen. Het model met alles is het beste. Blijkbaar voegen sex en age in combinatie met edu wel echt wat toe. Mooi!"
   ]
  },
  {
   "cell_type": "code",
   "execution_count": 11,
   "metadata": {},
   "outputs": [
    {
     "data": {
      "text/html": [
       "<div>\n",
       "<style scoped>\n",
       "    .dataframe tbody tr th:only-of-type {\n",
       "        vertical-align: middle;\n",
       "    }\n",
       "\n",
       "    .dataframe tbody tr th {\n",
       "        vertical-align: top;\n",
       "    }\n",
       "\n",
       "    .dataframe thead th {\n",
       "        text-align: right;\n",
       "    }\n",
       "</style>\n",
       "<table border=\"1\" class=\"dataframe\">\n",
       "  <thead>\n",
       "    <tr style=\"text-align: right;\">\n",
       "      <th></th>\n",
       "      <th>above</th>\n",
       "      <th>below</th>\n",
       "    </tr>\n",
       "  </thead>\n",
       "  <tbody>\n",
       "    <tr>\n",
       "      <th>above</th>\n",
       "      <td>0.220594</td>\n",
       "      <td>0.779406</td>\n",
       "    </tr>\n",
       "    <tr>\n",
       "      <th>below</th>\n",
       "      <td>0.038211</td>\n",
       "      <td>0.961789</td>\n",
       "    </tr>\n",
       "  </tbody>\n",
       "</table>\n",
       "</div>"
      ],
      "text/plain": [
       "          above     below\n",
       "above  0.220594  0.779406\n",
       "below  0.038211  0.961789"
      ]
     },
     "execution_count": 11,
     "metadata": {},
     "output_type": "execute_result"
    }
   ],
   "source": [
    "edu_cm"
   ]
  },
  {
   "cell_type": "code",
   "execution_count": 12,
   "metadata": {},
   "outputs": [
    {
     "data": {
      "text/html": [
       "<div>\n",
       "<style scoped>\n",
       "    .dataframe tbody tr th:only-of-type {\n",
       "        vertical-align: middle;\n",
       "    }\n",
       "\n",
       "    .dataframe tbody tr th {\n",
       "        vertical-align: top;\n",
       "    }\n",
       "\n",
       "    .dataframe thead th {\n",
       "        text-align: right;\n",
       "    }\n",
       "</style>\n",
       "<table border=\"1\" class=\"dataframe\">\n",
       "  <thead>\n",
       "    <tr style=\"text-align: right;\">\n",
       "      <th></th>\n",
       "      <th>above</th>\n",
       "      <th>below</th>\n",
       "    </tr>\n",
       "  </thead>\n",
       "  <tbody>\n",
       "    <tr>\n",
       "      <th>above</th>\n",
       "      <td>0.444396</td>\n",
       "      <td>0.555604</td>\n",
       "    </tr>\n",
       "    <tr>\n",
       "      <th>below</th>\n",
       "      <td>0.094609</td>\n",
       "      <td>0.905391</td>\n",
       "    </tr>\n",
       "  </tbody>\n",
       "</table>\n",
       "</div>"
      ],
      "text/plain": [
       "          above     below\n",
       "above  0.444396  0.555604\n",
       "below  0.094609  0.905391"
      ]
     },
     "execution_count": 12,
     "metadata": {},
     "output_type": "execute_result"
    }
   ],
   "source": [
    "import seaborn as sns\n",
    "\n",
    "all_cm"
   ]
  },
  {
   "cell_type": "code",
   "execution_count": 28,
   "metadata": {},
   "outputs": [
    {
     "data": {
      "image/png": "[encoded data removed]",
      "text/plain": [
       "<Figure size 1152x432 with 1 Axes>"
      ]
     },
     "metadata": {
      "needs_background": "light"
     },
     "output_type": "display_data"
    }
   ],
   "source": [
    "from sklearn import tree\n",
    "import matplotlib.pyplot as plt\n",
    "import seaborn as sns\n",
    "\n",
    "plt.figure(figsize=(16,6))  # set plot size (denoted in inches)\n",
    "ignore_output = tree.plot_tree(all_model, max_depth = 3, fontsize=10,\n",
    "                              feature_names = ['age', 'sex', 'education'],\n",
    "                              filled = True)"
   ]
  },
  {
   "cell_type": "markdown",
   "metadata": {},
   "source": [
    "Door in te zoomen op de confusionmatrix kunnen we zien dat we vooral veel winnen bij mensen die `above` zijn, maar foutief als `below` worden geclassificeerd. Dit is wel logisch omdat leeftijd en sekse nog veel uitmaken als het aankomt op inkomen, maar wel met edu als sterktse onderliggende driver. Zie ook de gridplot eerder in het verhaal. "
   ]
  },
  {
   "cell_type": "markdown",
   "metadata": {},
   "source": [
    "# Evaluation\n",
    "Onze vraag was welke variabelen van invloed zijn op de inkomens verdeling. Uit onze analyse blijkt dat:\n",
    "\n",
    "- Mannen meer verdienen dan vrouwen in onze data\n",
    "- Inkomen sterk gekoppeld is aan het opleidingsniveau\n",
    "- Leeftijd ook een sterk verband heeft met de kans op een hoog inkomen. De piek hier ligt tussen de 40 en de 50 jaar oud. \n",
    "\n",
    "Qua invloed is education het sterkste, deze kan op zichzelf al een redelijke voorspelling geven. Dit wordt ook verder bevestigd doordat education helemaal bovenaan de tree staat. Maar als we dan de effecten van leeftijd en sekse meenemen wordt de performance veel beter. Sekse en leeftijd op zichzelf geven geen goede modellen. Dit wordt ook verder ondersteunt door de boom, onder de education komen age en sex weer prominent terug. \n",
    "\n",
    "Het uiteindelijke `all` model kan wel goed voorspellen wie `lager` dan 50k verdient, maar heeft meer moeite met accuraat de hogere verdieners eruit te halen. Daar classificeren we nog 60% fout. "
   ]
  },
  {
   "cell_type": "markdown",
   "metadata": {},
   "source": [
    "Vooral als je tijdens je eindproject met decision trees aan de slag gaat is dit een zeer waardevolle toevoeging aan je arsenaal. "
   ]
  }
 ],
 "metadata": {
  "kernelspec": {
   "display_name": "Python 3 (ipykernel)",
   "language": "python",
   "name": "python3"
  },
  "language_info": {
   "codemirror_mode": {
    "name": "ipython",
    "version": 3
   },
   "file_extension": ".py",
   "mimetype": "text/x-python",
   "name": "python",
   "nbconvert_exporter": "python",
   "pygments_lexer": "ipython3",
   "version": "3.9.7"
  }
 },
 "nbformat": 4,
 "nbformat_minor": 4
}
